{
 "cells": [
  {
   "cell_type": "markdown",
   "metadata": {},
   "source": [
    "### Problem Statement 1:"
   ]
  },
  {
   "cell_type": "markdown",
   "metadata": {},
   "source": [
    "#### Blood glucose levels for obese patients have a mean of 100 with a standard deviation of 15. A researcher thinks that a diet high in raw cornstarch will have a positive effect on blood glucose levels. A sample of 36 patients who have tried the raw cornstarch diet have a mean glucose level of 108. Test the hypothesis that the raw cornstarch had an effect or not."
   ]
  },
  {
   "cell_type": "code",
   "execution_count": 4,
   "metadata": {},
   "outputs": [
    {
     "name": "stdout",
     "output_type": "stream",
     "text": [
      "Z Score : 14.60593486680443\n"
     ]
    }
   ],
   "source": [
    "import math\n",
    "\n",
    "## Sample mean\n",
    "x=140\n",
    "##Population mean\n",
    "p=100\n",
    "## Standard Deviation\n",
    "std=15\n",
    "## Sample size\n",
    "n=30\n",
    "\n",
    "## Null hypothesis\n",
    "## H0: u=100\n",
    "## Alternate hypothesis\n",
    "## H1: u!=100\n",
    "\n",
    "##Since alpha level is not mentioned considerinbg the default level as .05 that is 5%\n",
    "## Since the alternate hypothesis is u!=100 this is two tailed test and alpha is split in to two, .025 that is 2.5% \n",
    "\n",
    "## the z-score for the .025 is 1.96\n",
    "\n",
    "## Calculating z\n",
    "## z = (sample_mean - population_mean) / (population_sigma /math.sqrt(no_of_sample))\n",
    "z=(x-p)/(std/math.sqrt(n))\n",
    "print(\"Z Score :\",z)\n",
    "\n",
    "## Null hypothesis can be rejected since the z value is lesser than -1.96 and greater than 1.96\n",
    "## Alternate hypothesis is accepted and starch has an effect in glucose level"
   ]
  },
  {
   "cell_type": "markdown",
   "metadata": {},
   "source": [
    "### Problem Statement 2:\n",
    "\n",
    "#### In one state, 52% of the voters are Republicans, and 48% are Democrats. In a second state, 47% of the voters are Republicans, and 53% are Democrats. Suppose a simple random sample of 100 voters are surveyed from each state. What is the probability that the survey will show a greater percentage of Republican voters in the second state than in the first state?"
   ]
  },
  {
   "cell_type": "code",
   "execution_count": 10,
   "metadata": {},
   "outputs": [
    {
     "name": "stdout",
     "output_type": "stream",
     "text": [
      "u :  0.050000000000000044 Std :  0.07061869440877536\n",
      "Z :  -0.7080278164104213\n"
     ]
    }
   ],
   "source": [
    "#P1 = the proportion of Republican voters in the first state\n",
    "#P2 = the proportion of Republican voters in the second state\n",
    "#p1 = the proportion of Republican voters in the sample from the first state\n",
    "#p2 = the proportion of Republican voters in the sample from the second state.\n",
    "#n1 = the number of voters sampled from the first state\n",
    "#n2 = the number of voters sampled from the second state\n",
    "\n",
    "n1 = 100\n",
    "n2 = 100\n",
    "\n",
    "P1 = 0.52\n",
    "P2 = 0.47\n",
    "\n",
    "#The mean of the difference in sample proportions\n",
    "# P1- P2\n",
    "u =  P1 - P2\n",
    "\n",
    "#The standard deviation of the difference (std)\n",
    "std = math.sqrt(((P1 * (1-P1) ) / n1) + ((P2 * (1-P2)) /n2))\n",
    "print(\"u : \",u,\"Std : \",std)\n",
    "\n",
    "#probability that p1 - p2 is less than zero\n",
    "#z p1 - p2 = (x - μ p1 - p2 ) / std\n",
    "z=(0-u)/std\n",
    "print(\"Z : \",z)\n",
    "\n",
    "\n",
    "#From Z table we find that the probability of a z-score being -0.7082 or less is 0.24.\n",
    "\n",
    "#Therefore, the probability that the survey will show a greater percentage of Republican voters \n",
    "#in the second state than in the first state is 0.24."
   ]
  },
  {
   "cell_type": "markdown",
   "metadata": {},
   "source": [
    "### Problem Statement 3:\n",
    "#### You take the SAT and score 1100. The mean score for the SAT is 1026 and the standard deviation is 209. How well did you score on the test compared to the average test taker?"
   ]
  },
  {
   "cell_type": "code",
   "execution_count": 12,
   "metadata": {},
   "outputs": [
    {
     "name": "stdout",
     "output_type": "stream",
     "text": [
      "Z = 0.35406698564593303\n"
     ]
    }
   ],
   "source": [
    "## z = (X-u)/std\n",
    "z=(1100 - 1026)/209\n",
    "print(\"Z =\",z)\n",
    "\n",
    "## Your score is .354 std above mean\n",
    "## From Z table 0.35 = .1368\n",
    "## Adding .5 which is in the left side of mean\n",
    "##  .1368 + .5000 = .6368 or 63.68%."
   ]
  },
  {
   "cell_type": "code",
   "execution_count": null,
   "metadata": {},
   "outputs": [],
   "source": []
  }
 ],
 "metadata": {
  "kernelspec": {
   "display_name": "Python 3",
   "language": "python",
   "name": "python3"
  },
  "language_info": {
   "codemirror_mode": {
    "name": "ipython",
    "version": 3
   },
   "file_extension": ".py",
   "mimetype": "text/x-python",
   "name": "python",
   "nbconvert_exporter": "python",
   "pygments_lexer": "ipython3",
   "version": "3.6.5"
  }
 },
 "nbformat": 4,
 "nbformat_minor": 2
}
